{
 "cells": [
  {
   "cell_type": "code",
   "execution_count": 1,
   "metadata": {},
   "outputs": [
    {
     "name": "stdout",
     "output_type": "stream",
     "text": [
      "e:\\e2e-MLOps-Pipeline-With-GitHub-Actions\n"
     ]
    }
   ],
   "source": [
    "%cd .."
   ]
  },
  {
   "cell_type": "markdown",
   "metadata": {},
   "source": [
    "# import libraries"
   ]
  },
  {
   "cell_type": "code",
   "execution_count": 2,
   "metadata": {},
   "outputs": [],
   "source": [
    "import pandas as pd\n",
    "import numpy as np\n",
    "import matplotlib.pyplot as plt\n",
    "import seaborn as sns\n",
    "import warnings\n",
    "warnings.filterwarnings('ignore')\n",
    "import os\n",
    "import torch\n",
    "import torch.nn as nn\n",
    "import torch.optim as optim\n"
   ]
  },
  {
   "cell_type": "code",
   "execution_count": 3,
   "metadata": {},
   "outputs": [
    {
     "data": {
      "text/plain": [
       "<torch._C.Generator at 0x16f11914df0>"
      ]
     },
     "execution_count": 3,
     "metadata": {},
     "output_type": "execute_result"
    }
   ],
   "source": [
    "import random\n",
    "\n",
    "random.seed(42)\n",
    "np.random.seed(42)\n",
    "torch.manual_seed(42)"
   ]
  },
  {
   "cell_type": "markdown",
   "metadata": {},
   "source": [
    "# Reading and handling data"
   ]
  },
  {
   "cell_type": "code",
   "execution_count": 4,
   "metadata": {},
   "outputs": [],
   "source": [
    "df=pd.read_csv('dataset/Titanic-Dataset.csv')"
   ]
  },
  {
   "cell_type": "code",
   "execution_count": 5,
   "metadata": {},
   "outputs": [
    {
     "data": {
      "text/html": [
       "<div>\n",
       "<style scoped>\n",
       "    .dataframe tbody tr th:only-of-type {\n",
       "        vertical-align: middle;\n",
       "    }\n",
       "\n",
       "    .dataframe tbody tr th {\n",
       "        vertical-align: top;\n",
       "    }\n",
       "\n",
       "    .dataframe thead th {\n",
       "        text-align: right;\n",
       "    }\n",
       "</style>\n",
       "<table border=\"1\" class=\"dataframe\">\n",
       "  <thead>\n",
       "    <tr style=\"text-align: right;\">\n",
       "      <th></th>\n",
       "      <th>PassengerId</th>\n",
       "      <th>Survived</th>\n",
       "      <th>Pclass</th>\n",
       "      <th>Name</th>\n",
       "      <th>Sex</th>\n",
       "      <th>Age</th>\n",
       "      <th>SibSp</th>\n",
       "      <th>Parch</th>\n",
       "      <th>Ticket</th>\n",
       "      <th>Fare</th>\n",
       "      <th>Cabin</th>\n",
       "      <th>Embarked</th>\n",
       "    </tr>\n",
       "  </thead>\n",
       "  <tbody>\n",
       "    <tr>\n",
       "      <th>0</th>\n",
       "      <td>1</td>\n",
       "      <td>0</td>\n",
       "      <td>3</td>\n",
       "      <td>Braund, Mr. Owen Harris</td>\n",
       "      <td>male</td>\n",
       "      <td>22.0</td>\n",
       "      <td>1</td>\n",
       "      <td>0</td>\n",
       "      <td>A/5 21171</td>\n",
       "      <td>7.2500</td>\n",
       "      <td>NaN</td>\n",
       "      <td>S</td>\n",
       "    </tr>\n",
       "    <tr>\n",
       "      <th>1</th>\n",
       "      <td>2</td>\n",
       "      <td>1</td>\n",
       "      <td>1</td>\n",
       "      <td>Cumings, Mrs. John Bradley (Florence Briggs Th...</td>\n",
       "      <td>female</td>\n",
       "      <td>38.0</td>\n",
       "      <td>1</td>\n",
       "      <td>0</td>\n",
       "      <td>PC 17599</td>\n",
       "      <td>71.2833</td>\n",
       "      <td>C85</td>\n",
       "      <td>C</td>\n",
       "    </tr>\n",
       "    <tr>\n",
       "      <th>2</th>\n",
       "      <td>3</td>\n",
       "      <td>1</td>\n",
       "      <td>3</td>\n",
       "      <td>Heikkinen, Miss. Laina</td>\n",
       "      <td>female</td>\n",
       "      <td>26.0</td>\n",
       "      <td>0</td>\n",
       "      <td>0</td>\n",
       "      <td>STON/O2. 3101282</td>\n",
       "      <td>7.9250</td>\n",
       "      <td>NaN</td>\n",
       "      <td>S</td>\n",
       "    </tr>\n",
       "    <tr>\n",
       "      <th>3</th>\n",
       "      <td>4</td>\n",
       "      <td>1</td>\n",
       "      <td>1</td>\n",
       "      <td>Futrelle, Mrs. Jacques Heath (Lily May Peel)</td>\n",
       "      <td>female</td>\n",
       "      <td>35.0</td>\n",
       "      <td>1</td>\n",
       "      <td>0</td>\n",
       "      <td>113803</td>\n",
       "      <td>53.1000</td>\n",
       "      <td>C123</td>\n",
       "      <td>S</td>\n",
       "    </tr>\n",
       "    <tr>\n",
       "      <th>4</th>\n",
       "      <td>5</td>\n",
       "      <td>0</td>\n",
       "      <td>3</td>\n",
       "      <td>Allen, Mr. William Henry</td>\n",
       "      <td>male</td>\n",
       "      <td>35.0</td>\n",
       "      <td>0</td>\n",
       "      <td>0</td>\n",
       "      <td>373450</td>\n",
       "      <td>8.0500</td>\n",
       "      <td>NaN</td>\n",
       "      <td>S</td>\n",
       "    </tr>\n",
       "  </tbody>\n",
       "</table>\n",
       "</div>"
      ],
      "text/plain": [
       "   PassengerId  Survived  Pclass  \\\n",
       "0            1         0       3   \n",
       "1            2         1       1   \n",
       "2            3         1       3   \n",
       "3            4         1       1   \n",
       "4            5         0       3   \n",
       "\n",
       "                                                Name     Sex   Age  SibSp  \\\n",
       "0                            Braund, Mr. Owen Harris    male  22.0      1   \n",
       "1  Cumings, Mrs. John Bradley (Florence Briggs Th...  female  38.0      1   \n",
       "2                             Heikkinen, Miss. Laina  female  26.0      0   \n",
       "3       Futrelle, Mrs. Jacques Heath (Lily May Peel)  female  35.0      1   \n",
       "4                           Allen, Mr. William Henry    male  35.0      0   \n",
       "\n",
       "   Parch            Ticket     Fare Cabin Embarked  \n",
       "0      0         A/5 21171   7.2500   NaN        S  \n",
       "1      0          PC 17599  71.2833   C85        C  \n",
       "2      0  STON/O2. 3101282   7.9250   NaN        S  \n",
       "3      0            113803  53.1000  C123        S  \n",
       "4      0            373450   8.0500   NaN        S  "
      ]
     },
     "execution_count": 5,
     "metadata": {},
     "output_type": "execute_result"
    }
   ],
   "source": [
    "df.head()"
   ]
  },
  {
   "cell_type": "code",
   "execution_count": 6,
   "metadata": {},
   "outputs": [
    {
     "name": "stdout",
     "output_type": "stream",
     "text": [
      "<class 'pandas.core.frame.DataFrame'>\n",
      "RangeIndex: 891 entries, 0 to 890\n",
      "Data columns (total 12 columns):\n",
      " #   Column       Non-Null Count  Dtype  \n",
      "---  ------       --------------  -----  \n",
      " 0   PassengerId  891 non-null    int64  \n",
      " 1   Survived     891 non-null    int64  \n",
      " 2   Pclass       891 non-null    int64  \n",
      " 3   Name         891 non-null    object \n",
      " 4   Sex          891 non-null    object \n",
      " 5   Age          714 non-null    float64\n",
      " 6   SibSp        891 non-null    int64  \n",
      " 7   Parch        891 non-null    int64  \n",
      " 8   Ticket       891 non-null    object \n",
      " 9   Fare         891 non-null    float64\n",
      " 10  Cabin        204 non-null    object \n",
      " 11  Embarked     889 non-null    object \n",
      "dtypes: float64(2), int64(5), object(5)\n",
      "memory usage: 83.7+ KB\n"
     ]
    }
   ],
   "source": [
    "df.info()"
   ]
  },
  {
   "cell_type": "code",
   "execution_count": 7,
   "metadata": {},
   "outputs": [
    {
     "data": {
      "text/html": [
       "<div>\n",
       "<style scoped>\n",
       "    .dataframe tbody tr th:only-of-type {\n",
       "        vertical-align: middle;\n",
       "    }\n",
       "\n",
       "    .dataframe tbody tr th {\n",
       "        vertical-align: top;\n",
       "    }\n",
       "\n",
       "    .dataframe thead th {\n",
       "        text-align: right;\n",
       "    }\n",
       "</style>\n",
       "<table border=\"1\" class=\"dataframe\">\n",
       "  <thead>\n",
       "    <tr style=\"text-align: right;\">\n",
       "      <th></th>\n",
       "      <th>PassengerId</th>\n",
       "      <th>Survived</th>\n",
       "      <th>Pclass</th>\n",
       "      <th>Age</th>\n",
       "      <th>SibSp</th>\n",
       "      <th>Parch</th>\n",
       "      <th>Fare</th>\n",
       "    </tr>\n",
       "  </thead>\n",
       "  <tbody>\n",
       "    <tr>\n",
       "      <th>count</th>\n",
       "      <td>891.000000</td>\n",
       "      <td>891.000000</td>\n",
       "      <td>891.000000</td>\n",
       "      <td>714.000000</td>\n",
       "      <td>891.000000</td>\n",
       "      <td>891.000000</td>\n",
       "      <td>891.000000</td>\n",
       "    </tr>\n",
       "    <tr>\n",
       "      <th>mean</th>\n",
       "      <td>446.000000</td>\n",
       "      <td>0.383838</td>\n",
       "      <td>2.308642</td>\n",
       "      <td>29.699118</td>\n",
       "      <td>0.523008</td>\n",
       "      <td>0.381594</td>\n",
       "      <td>32.204208</td>\n",
       "    </tr>\n",
       "    <tr>\n",
       "      <th>std</th>\n",
       "      <td>257.353842</td>\n",
       "      <td>0.486592</td>\n",
       "      <td>0.836071</td>\n",
       "      <td>14.526497</td>\n",
       "      <td>1.102743</td>\n",
       "      <td>0.806057</td>\n",
       "      <td>49.693429</td>\n",
       "    </tr>\n",
       "    <tr>\n",
       "      <th>min</th>\n",
       "      <td>1.000000</td>\n",
       "      <td>0.000000</td>\n",
       "      <td>1.000000</td>\n",
       "      <td>0.420000</td>\n",
       "      <td>0.000000</td>\n",
       "      <td>0.000000</td>\n",
       "      <td>0.000000</td>\n",
       "    </tr>\n",
       "    <tr>\n",
       "      <th>25%</th>\n",
       "      <td>223.500000</td>\n",
       "      <td>0.000000</td>\n",
       "      <td>2.000000</td>\n",
       "      <td>20.125000</td>\n",
       "      <td>0.000000</td>\n",
       "      <td>0.000000</td>\n",
       "      <td>7.910400</td>\n",
       "    </tr>\n",
       "    <tr>\n",
       "      <th>50%</th>\n",
       "      <td>446.000000</td>\n",
       "      <td>0.000000</td>\n",
       "      <td>3.000000</td>\n",
       "      <td>28.000000</td>\n",
       "      <td>0.000000</td>\n",
       "      <td>0.000000</td>\n",
       "      <td>14.454200</td>\n",
       "    </tr>\n",
       "    <tr>\n",
       "      <th>75%</th>\n",
       "      <td>668.500000</td>\n",
       "      <td>1.000000</td>\n",
       "      <td>3.000000</td>\n",
       "      <td>38.000000</td>\n",
       "      <td>1.000000</td>\n",
       "      <td>0.000000</td>\n",
       "      <td>31.000000</td>\n",
       "    </tr>\n",
       "    <tr>\n",
       "      <th>max</th>\n",
       "      <td>891.000000</td>\n",
       "      <td>1.000000</td>\n",
       "      <td>3.000000</td>\n",
       "      <td>80.000000</td>\n",
       "      <td>8.000000</td>\n",
       "      <td>6.000000</td>\n",
       "      <td>512.329200</td>\n",
       "    </tr>\n",
       "  </tbody>\n",
       "</table>\n",
       "</div>"
      ],
      "text/plain": [
       "       PassengerId    Survived      Pclass         Age       SibSp  \\\n",
       "count   891.000000  891.000000  891.000000  714.000000  891.000000   \n",
       "mean    446.000000    0.383838    2.308642   29.699118    0.523008   \n",
       "std     257.353842    0.486592    0.836071   14.526497    1.102743   \n",
       "min       1.000000    0.000000    1.000000    0.420000    0.000000   \n",
       "25%     223.500000    0.000000    2.000000   20.125000    0.000000   \n",
       "50%     446.000000    0.000000    3.000000   28.000000    0.000000   \n",
       "75%     668.500000    1.000000    3.000000   38.000000    1.000000   \n",
       "max     891.000000    1.000000    3.000000   80.000000    8.000000   \n",
       "\n",
       "            Parch        Fare  \n",
       "count  891.000000  891.000000  \n",
       "mean     0.381594   32.204208  \n",
       "std      0.806057   49.693429  \n",
       "min      0.000000    0.000000  \n",
       "25%      0.000000    7.910400  \n",
       "50%      0.000000   14.454200  \n",
       "75%      0.000000   31.000000  \n",
       "max      6.000000  512.329200  "
      ]
     },
     "execution_count": 7,
     "metadata": {},
     "output_type": "execute_result"
    }
   ],
   "source": [
    "df.describe()"
   ]
  },
  {
   "cell_type": "code",
   "execution_count": 8,
   "metadata": {},
   "outputs": [
    {
     "data": {
      "text/plain": [
       "PassengerId    0.000000\n",
       "Survived       0.000000\n",
       "Pclass         0.000000\n",
       "Name           0.000000\n",
       "Sex            0.000000\n",
       "Age            0.198653\n",
       "SibSp          0.000000\n",
       "Parch          0.000000\n",
       "Ticket         0.000000\n",
       "Fare           0.000000\n",
       "Cabin          0.771044\n",
       "Embarked       0.002245\n",
       "dtype: float64"
      ]
     },
     "execution_count": 8,
     "metadata": {},
     "output_type": "execute_result"
    }
   ],
   "source": [
    "df.isnull().sum()/len(df)"
   ]
  },
  {
   "cell_type": "code",
   "execution_count": 9,
   "metadata": {},
   "outputs": [],
   "source": [
    "df['Age'].fillna(df['Age'].mean(), inplace=True)"
   ]
  },
  {
   "cell_type": "code",
   "execution_count": 10,
   "metadata": {},
   "outputs": [],
   "source": [
    "df=df.drop(['PassengerId','Cabin','Name','Ticket','Embarked'],axis=1)"
   ]
  },
  {
   "cell_type": "code",
   "execution_count": 11,
   "metadata": {},
   "outputs": [
    {
     "data": {
      "text/plain": [
       "Survived    0\n",
       "Pclass      0\n",
       "Sex         0\n",
       "Age         0\n",
       "SibSp       0\n",
       "Parch       0\n",
       "Fare        0\n",
       "dtype: int64"
      ]
     },
     "execution_count": 11,
     "metadata": {},
     "output_type": "execute_result"
    }
   ],
   "source": [
    "df.isnull().sum()"
   ]
  },
  {
   "cell_type": "markdown",
   "metadata": {},
   "source": [
    "# visualize data"
   ]
  },
  {
   "cell_type": "code",
   "execution_count": 12,
   "metadata": {},
   "outputs": [],
   "source": [
    "sns.set(style=\"whitegrid\")"
   ]
  },
  {
   "cell_type": "code",
   "execution_count": 13,
   "metadata": {},
   "outputs": [
    {
     "data": {
      "image/png": "[encoded data removed]",
      "text/plain": [
       "<Figure size 640x480 with 1 Axes>"
      ]
     },
     "metadata": {},
     "output_type": "display_data"
    }
   ],
   "source": [
    "sns.countplot(x=\"Survived\",data=df)\n",
    "plt.title(\"Survival Counts\")\n",
    "plt.xticks([0,1],[\"Not Survived\",\"Survived\"])\n",
    "plt.show()"
   ]
  },
  {
   "cell_type": "code",
   "execution_count": 14,
   "metadata": {},
   "outputs": [],
   "source": [
    "def countplot(df,x):\n",
    "    sns.countplot(x=x ,hue='Survived',data=df)\n",
    "    plt.title(f\"Survival Counts by {x}\")\n",
    "    plt.legend(['Not Survived','Survived'])\n",
    "    plt.show()"
   ]
  },
  {
   "cell_type": "code",
   "execution_count": 15,
   "metadata": {},
   "outputs": [
    {
     "data": {
      "image/png": "[encoded data removed]",
      "text/plain": [
       "<Figure size 640x480 with 1 Axes>"
      ]
     },
     "metadata": {},
     "output_type": "display_data"
    }
   ],
   "source": [
    "countplot(df,'Sex')"
   ]
  },
  {
   "cell_type": "code",
   "execution_count": 16,
   "metadata": {},
   "outputs": [
    {
     "data": {
      "image/png": "[encoded data removed]",
      "text/plain": [
       "<Figure size 640x480 with 1 Axes>"
      ]
     },
     "metadata": {},
     "output_type": "display_data"
    }
   ],
   "source": [
    "countplot(df,'Pclass')"
   ]
  },
  {
   "cell_type": "code",
   "execution_count": 17,
   "metadata": {},
   "outputs": [
    {
     "data": {
      "image/png": "[encoded data removed]",
      "text/plain": [
       "<Figure size 640x480 with 1 Axes>"
      ]
     },
     "metadata": {},
     "output_type": "display_data"
    }
   ],
   "source": [
    "sns.kdeplot(data=df[df['Survived']==1]['Age'])\n",
    "sns.kdeplot(data=df[df['Survived']==0]['Age'])\n",
    "plt.title(\"Age Distribution by Survival\")\n",
    "plt.legend(['Survived','Not Survived'])\n",
    "plt.show()"
   ]
  },
  {
   "cell_type": "code",
   "execution_count": 18,
   "metadata": {},
   "outputs": [
    {
     "data": {
      "image/png": "[encoded data removed]",
      "text/plain": [
       "<Figure size 640x480 with 1 Axes>"
      ]
     },
     "metadata": {},
     "output_type": "display_data"
    }
   ],
   "source": [
    "sns.boxenplot(x='Survived',y='Fare',data=df)\n",
    "plt.title(\"Fare Distribution by Survival\")\n",
    "plt.xticks([0,1],[\"Not Survived\",\"Survived\"])\n",
    "plt.show()"
   ]
  },
  {
   "cell_type": "markdown",
   "metadata": {},
   "source": [
    "# data preprocessing"
   ]
  },
  {
   "cell_type": "code",
   "execution_count": 19,
   "metadata": {},
   "outputs": [
    {
     "name": "stdout",
     "output_type": "stream",
     "text": [
      "<class 'pandas.core.frame.DataFrame'>\n",
      "RangeIndex: 891 entries, 0 to 890\n",
      "Data columns (total 7 columns):\n",
      " #   Column    Non-Null Count  Dtype  \n",
      "---  ------    --------------  -----  \n",
      " 0   Survived  891 non-null    int64  \n",
      " 1   Pclass    891 non-null    int64  \n",
      " 2   Sex       891 non-null    object \n",
      " 3   Age       891 non-null    float64\n",
      " 4   SibSp     891 non-null    int64  \n",
      " 5   Parch     891 non-null    int64  \n",
      " 6   Fare      891 non-null    float64\n",
      "dtypes: float64(2), int64(4), object(1)\n",
      "memory usage: 48.9+ KB\n"
     ]
    }
   ],
   "source": [
    "df.info()"
   ]
  },
  {
   "cell_type": "code",
   "execution_count": 20,
   "metadata": {},
   "outputs": [],
   "source": [
    "from sklearn.model_selection import train_test_split\n",
    "from sklearn.preprocessing import StandardScaler,LabelEncoder\n",
    "from imblearn.over_sampling import SMOTE\n"
   ]
  },
  {
   "cell_type": "code",
   "execution_count": 21,
   "metadata": {},
   "outputs": [],
   "source": [
    "X=df.drop('Survived',axis=1)\n",
    "y=df['Survived']"
   ]
  },
  {
   "cell_type": "code",
   "execution_count": 22,
   "metadata": {},
   "outputs": [],
   "source": [
    "x_train,x_test,y_train,y_test = train_test_split(X,y,test_size=0.2,random_state=42)"
   ]
  },
  {
   "cell_type": "code",
   "execution_count": 23,
   "metadata": {},
   "outputs": [
    {
     "data": {
      "text/plain": [
       "((712, 6), (179, 6), (712,), (179,))"
      ]
     },
     "execution_count": 23,
     "metadata": {},
     "output_type": "execute_result"
    }
   ],
   "source": [
    "x_train.shape,x_test.shape,y_train.shape,y_test.shape"
   ]
  },
  {
   "cell_type": "code",
   "execution_count": 24,
   "metadata": {},
   "outputs": [
    {
     "data": {
      "text/plain": [
       "Survived\n",
       "0    444\n",
       "1    268\n",
       "Name: count, dtype: int64"
      ]
     },
     "execution_count": 24,
     "metadata": {},
     "output_type": "execute_result"
    }
   ],
   "source": [
    "y_train.value_counts()"
   ]
  },
  {
   "cell_type": "code",
   "execution_count": 25,
   "metadata": {},
   "outputs": [],
   "source": [
    "le = LabelEncoder()"
   ]
  },
  {
   "cell_type": "code",
   "execution_count": 26,
   "metadata": {},
   "outputs": [],
   "source": [
    "x_train['Sex_enc']=le.fit_transform(x_train['Sex'].to_numpy().reshape(-1, 1))\n",
    "x_test['Sex_enc'] = le.transform(x_test['Sex'].to_numpy().reshape(-1,1))\n"
   ]
  },
  {
   "cell_type": "code",
   "execution_count": 27,
   "metadata": {},
   "outputs": [],
   "source": [
    "x_train=x_train.drop(columns='Sex')\n",
    "x_test=x_test.drop(columns='Sex')"
   ]
  },
  {
   "cell_type": "code",
   "execution_count": 28,
   "metadata": {},
   "outputs": [
    {
     "data": {
      "text/plain": [
       "Sex_enc\n",
       "1    467\n",
       "0    245\n",
       "Name: count, dtype: int64"
      ]
     },
     "execution_count": 28,
     "metadata": {},
     "output_type": "execute_result"
    }
   ],
   "source": [
    "x_train['Sex_enc'].value_counts()"
   ]
  },
  {
   "cell_type": "code",
   "execution_count": 29,
   "metadata": {},
   "outputs": [],
   "source": [
    "Scale=StandardScaler()\n",
    "x_train=Scale.fit_transform(x_train)\n",
    "x_test=Scale.transform(x_test)"
   ]
  },
  {
   "cell_type": "code",
   "execution_count": 30,
   "metadata": {},
   "outputs": [],
   "source": [
    "smote=SMOTE(random_state=42)\n",
    "x_train_res,y_train_res=smote.fit_resample(x_train,y_train)"
   ]
  },
  {
   "cell_type": "code",
   "execution_count": 33,
   "metadata": {},
   "outputs": [
    {
     "data": {
      "text/plain": [
       "(888, 6)"
      ]
     },
     "execution_count": 33,
     "metadata": {},
     "output_type": "execute_result"
    }
   ],
   "source": [
    "x_train_res.shape"
   ]
  },
  {
   "cell_type": "code",
   "execution_count": 34,
   "metadata": {},
   "outputs": [],
   "source": [
    "x_train_array = np.asarray(x_train_res, dtype = 'float')\n",
    "\n",
    "y_train_array = np.asarray(y_train_res, dtype = 'int')\n",
    "\n",
    "x_test_array = np.asarray(x_test, dtype = 'float')\n",
    "\n",
    "y_test_array = np.asarray(y_test, dtype = 'int')"
   ]
  },
  {
   "cell_type": "code",
   "execution_count": 35,
   "metadata": {},
   "outputs": [
    {
     "name": "stdout",
     "output_type": "stream",
     "text": [
      "(888, 6)\n",
      "(888,)\n",
      "(179, 6)\n",
      "(179,)\n"
     ]
    }
   ],
   "source": [
    "print(x_train_array.shape)\n",
    "\n",
    "print(y_train_array.shape)\n",
    "\n",
    "print(x_test_array.shape)\n",
    "\n",
    "print(y_test_array.shape)"
   ]
  },
  {
   "cell_type": "code",
   "execution_count": 36,
   "metadata": {},
   "outputs": [],
   "source": [
    "x_train_tensor=torch.tensor(x_train_array , dtype=torch.float32)\n",
    "x_test_tensor=torch.tensor(x_test_array , dtype =torch.float32)\n",
    "y_train_tensor=torch.tensor(y_train_array,dtype=torch.float32).unsqueeze(1)\n",
    "y_test_tensor=torch.tensor(y_test_array,dtype=torch.float32).unsqueeze(1)"
   ]
  },
  {
   "cell_type": "code",
   "execution_count": 37,
   "metadata": {},
   "outputs": [
    {
     "name": "stdout",
     "output_type": "stream",
     "text": [
      "torch.Size([888, 6])\n",
      "torch.Size([888, 1])\n",
      "torch.Size([179, 6])\n",
      "torch.Size([179, 1])\n"
     ]
    }
   ],
   "source": [
    "print(x_train_tensor.shape)\n",
    "\n",
    "print(y_train_tensor.shape)\n",
    "\n",
    "print(x_test_tensor.shape)\n",
    "\n",
    "print(y_test_tensor.shape)"
   ]
  },
  {
   "cell_type": "code",
   "execution_count": 38,
   "metadata": {},
   "outputs": [],
   "source": [
    "class SurvivalNN(nn.Module):\n",
    "    def __init__(self, input_dim):\n",
    "        super(SurvivalNN, self).__init__()\n",
    "        self.model = nn.Sequential(\n",
    "            nn.Linear(input_dim, 64),\n",
    "            nn.ReLU(),\n",
    "            nn.Linear(64, 32),\n",
    "            nn.ReLU(),\n",
    "            nn.Linear(32,16),\n",
    "            nn.ReLU(),\n",
    "            nn.Linear(16,1)\n",
    "\n",
    "        )\n",
    "\n",
    "    def forward(self, x):\n",
    "        return self.model(x)\n",
    "\n",
    "input_dim = x_train.shape[1]\n",
    "model = SurvivalNN(input_dim)"
   ]
  },
  {
   "cell_type": "code",
   "execution_count": 39,
   "metadata": {},
   "outputs": [],
   "source": [
    "\n",
    "neg=(y_train_tensor==0).sum()\n",
    "pos=(y_train_tensor==1).sum()\n",
    "pos_weight=torch.tensor([neg/pos],dtype=torch.float32)"
   ]
  },
  {
   "cell_type": "code",
   "execution_count": 40,
   "metadata": {},
   "outputs": [],
   "source": [
    "loss_fn=nn.BCEWithLogitsLoss(pos_weight=pos_weight)\n",
    "optimizer=optim.Adam(model.parameters(),lr=0.001)"
   ]
  },
  {
   "cell_type": "code",
   "execution_count": 41,
   "metadata": {},
   "outputs": [
    {
     "name": "stdout",
     "output_type": "stream",
     "text": [
      "Epoch 1/300, Loss: 0.6986, Accuracy: 0.5000\n",
      "Epoch 2/300, Loss: 0.6958, Accuracy: 0.5000\n",
      "Epoch 3/300, Loss: 0.6931, Accuracy: 0.5000\n",
      "Epoch 4/300, Loss: 0.6906, Accuracy: 0.5000\n",
      "Epoch 5/300, Loss: 0.6881, Accuracy: 0.5000\n",
      "Epoch 6/300, Loss: 0.6857, Accuracy: 0.5000\n",
      "Epoch 7/300, Loss: 0.6833, Accuracy: 0.5000\n",
      "Epoch 8/300, Loss: 0.6810, Accuracy: 0.5000\n",
      "Epoch 9/300, Loss: 0.6786, Accuracy: 0.5000\n",
      "Epoch 10/300, Loss: 0.6762, Accuracy: 0.5000\n",
      "Epoch 11/300, Loss: 0.6738, Accuracy: 0.5045\n",
      "Epoch 12/300, Loss: 0.6712, Accuracy: 0.5045\n",
      "Epoch 13/300, Loss: 0.6686, Accuracy: 0.5045\n",
      "Epoch 14/300, Loss: 0.6659, Accuracy: 0.5045\n",
      "Epoch 15/300, Loss: 0.6631, Accuracy: 0.5045\n",
      "Epoch 16/300, Loss: 0.6602, Accuracy: 0.5045\n",
      "Epoch 17/300, Loss: 0.6571, Accuracy: 0.5045\n",
      "Epoch 18/300, Loss: 0.6538, Accuracy: 0.5056\n",
      "Epoch 19/300, Loss: 0.6504, Accuracy: 0.5101\n",
      "Epoch 20/300, Loss: 0.6468, Accuracy: 0.5101\n",
      "Epoch 21/300, Loss: 0.6430, Accuracy: 0.5113\n",
      "Epoch 22/300, Loss: 0.6391, Accuracy: 0.5146\n",
      "Epoch 23/300, Loss: 0.6350, Accuracy: 0.5135\n",
      "Epoch 24/300, Loss: 0.6307, Accuracy: 0.5158\n",
      "Epoch 25/300, Loss: 0.6262, Accuracy: 0.5191\n",
      "Epoch 26/300, Loss: 0.6215, Accuracy: 0.5338\n",
      "Epoch 27/300, Loss: 0.6167, Accuracy: 0.5462\n",
      "Epoch 28/300, Loss: 0.6118, Accuracy: 0.5709\n",
      "Epoch 29/300, Loss: 0.6068, Accuracy: 0.5923\n",
      "Epoch 30/300, Loss: 0.6015, Accuracy: 0.6149\n",
      "Epoch 31/300, Loss: 0.5961, Accuracy: 0.6498\n",
      "Epoch 32/300, Loss: 0.5905, Accuracy: 0.6813\n",
      "Epoch 33/300, Loss: 0.5847, Accuracy: 0.6948\n",
      "Epoch 34/300, Loss: 0.5790, Accuracy: 0.7128\n",
      "Epoch 35/300, Loss: 0.5731, Accuracy: 0.7354\n",
      "Epoch 36/300, Loss: 0.5672, Accuracy: 0.7466\n",
      "Epoch 37/300, Loss: 0.5613, Accuracy: 0.7556\n",
      "Epoch 38/300, Loss: 0.5553, Accuracy: 0.7613\n",
      "Epoch 39/300, Loss: 0.5493, Accuracy: 0.7646\n",
      "Epoch 40/300, Loss: 0.5434, Accuracy: 0.7669\n",
      "Epoch 41/300, Loss: 0.5376, Accuracy: 0.7736\n",
      "Epoch 42/300, Loss: 0.5319, Accuracy: 0.7736\n",
      "Epoch 43/300, Loss: 0.5264, Accuracy: 0.7782\n",
      "Epoch 44/300, Loss: 0.5210, Accuracy: 0.7782\n",
      "Epoch 45/300, Loss: 0.5159, Accuracy: 0.7770\n",
      "Epoch 46/300, Loss: 0.5110, Accuracy: 0.7770\n",
      "Epoch 47/300, Loss: 0.5063, Accuracy: 0.7782\n",
      "Epoch 48/300, Loss: 0.5018, Accuracy: 0.7782\n",
      "Epoch 49/300, Loss: 0.4976, Accuracy: 0.7782\n",
      "Epoch 50/300, Loss: 0.4936, Accuracy: 0.7782\n",
      "Epoch 51/300, Loss: 0.4899, Accuracy: 0.7793\n",
      "Epoch 52/300, Loss: 0.4864, Accuracy: 0.7793\n",
      "Epoch 53/300, Loss: 0.4832, Accuracy: 0.7815\n",
      "Epoch 54/300, Loss: 0.4803, Accuracy: 0.7815\n",
      "Epoch 55/300, Loss: 0.4775, Accuracy: 0.7815\n",
      "Epoch 56/300, Loss: 0.4749, Accuracy: 0.7815\n",
      "Epoch 57/300, Loss: 0.4725, Accuracy: 0.7815\n",
      "Epoch 58/300, Loss: 0.4702, Accuracy: 0.7827\n",
      "Epoch 59/300, Loss: 0.4681, Accuracy: 0.7838\n",
      "Epoch 60/300, Loss: 0.4662, Accuracy: 0.7838\n",
      "Epoch 61/300, Loss: 0.4644, Accuracy: 0.7838\n",
      "Epoch 62/300, Loss: 0.4627, Accuracy: 0.7838\n",
      "Epoch 63/300, Loss: 0.4610, Accuracy: 0.7838\n",
      "Epoch 64/300, Loss: 0.4595, Accuracy: 0.7838\n",
      "Epoch 65/300, Loss: 0.4580, Accuracy: 0.7860\n",
      "Epoch 66/300, Loss: 0.4565, Accuracy: 0.7883\n",
      "Epoch 67/300, Loss: 0.4551, Accuracy: 0.7905\n",
      "Epoch 68/300, Loss: 0.4538, Accuracy: 0.7928\n",
      "Epoch 69/300, Loss: 0.4525, Accuracy: 0.7928\n",
      "Epoch 70/300, Loss: 0.4512, Accuracy: 0.7928\n",
      "Epoch 71/300, Loss: 0.4499, Accuracy: 0.7939\n",
      "Epoch 72/300, Loss: 0.4487, Accuracy: 0.7950\n",
      "Epoch 73/300, Loss: 0.4475, Accuracy: 0.7939\n",
      "Epoch 74/300, Loss: 0.4463, Accuracy: 0.7939\n",
      "Epoch 75/300, Loss: 0.4451, Accuracy: 0.7928\n",
      "Epoch 76/300, Loss: 0.4440, Accuracy: 0.7950\n",
      "Epoch 77/300, Loss: 0.4429, Accuracy: 0.7962\n",
      "Epoch 78/300, Loss: 0.4418, Accuracy: 0.7973\n",
      "Epoch 79/300, Loss: 0.4407, Accuracy: 0.8007\n",
      "Epoch 80/300, Loss: 0.4397, Accuracy: 0.8007\n",
      "Epoch 81/300, Loss: 0.4387, Accuracy: 0.8029\n",
      "Epoch 82/300, Loss: 0.4377, Accuracy: 0.8041\n",
      "Epoch 83/300, Loss: 0.4367, Accuracy: 0.8052\n",
      "Epoch 84/300, Loss: 0.4357, Accuracy: 0.8063\n",
      "Epoch 85/300, Loss: 0.4348, Accuracy: 0.8063\n",
      "Epoch 86/300, Loss: 0.4339, Accuracy: 0.8063\n",
      "Epoch 87/300, Loss: 0.4330, Accuracy: 0.8052\n",
      "Epoch 88/300, Loss: 0.4321, Accuracy: 0.8041\n",
      "Epoch 89/300, Loss: 0.4312, Accuracy: 0.8063\n",
      "Epoch 90/300, Loss: 0.4304, Accuracy: 0.8052\n",
      "Epoch 91/300, Loss: 0.4295, Accuracy: 0.8052\n",
      "Epoch 92/300, Loss: 0.4287, Accuracy: 0.8074\n",
      "Epoch 93/300, Loss: 0.4279, Accuracy: 0.8074\n",
      "Epoch 94/300, Loss: 0.4271, Accuracy: 0.8086\n",
      "Epoch 95/300, Loss: 0.4263, Accuracy: 0.8108\n",
      "Epoch 96/300, Loss: 0.4255, Accuracy: 0.8119\n",
      "Epoch 97/300, Loss: 0.4248, Accuracy: 0.8142\n",
      "Epoch 98/300, Loss: 0.4240, Accuracy: 0.8164\n",
      "Epoch 99/300, Loss: 0.4233, Accuracy: 0.8164\n",
      "Epoch 100/300, Loss: 0.4225, Accuracy: 0.8176\n",
      "Epoch 101/300, Loss: 0.4218, Accuracy: 0.8176\n",
      "Epoch 102/300, Loss: 0.4211, Accuracy: 0.8176\n",
      "Epoch 103/300, Loss: 0.4204, Accuracy: 0.8176\n",
      "Epoch 104/300, Loss: 0.4197, Accuracy: 0.8176\n",
      "Epoch 105/300, Loss: 0.4190, Accuracy: 0.8176\n",
      "Epoch 106/300, Loss: 0.4183, Accuracy: 0.8176\n",
      "Epoch 107/300, Loss: 0.4176, Accuracy: 0.8176\n",
      "Epoch 108/300, Loss: 0.4169, Accuracy: 0.8176\n",
      "Epoch 109/300, Loss: 0.4162, Accuracy: 0.8187\n",
      "Epoch 110/300, Loss: 0.4156, Accuracy: 0.8187\n",
      "Epoch 111/300, Loss: 0.4149, Accuracy: 0.8187\n",
      "Epoch 112/300, Loss: 0.4142, Accuracy: 0.8187\n",
      "Epoch 113/300, Loss: 0.4136, Accuracy: 0.8187\n",
      "Epoch 114/300, Loss: 0.4130, Accuracy: 0.8187\n",
      "Epoch 115/300, Loss: 0.4123, Accuracy: 0.8176\n",
      "Epoch 116/300, Loss: 0.4117, Accuracy: 0.8176\n",
      "Epoch 117/300, Loss: 0.4111, Accuracy: 0.8176\n",
      "Epoch 118/300, Loss: 0.4105, Accuracy: 0.8176\n",
      "Epoch 119/300, Loss: 0.4099, Accuracy: 0.8176\n",
      "Epoch 120/300, Loss: 0.4093, Accuracy: 0.8164\n",
      "Epoch 121/300, Loss: 0.4087, Accuracy: 0.8164\n",
      "Epoch 122/300, Loss: 0.4081, Accuracy: 0.8176\n",
      "Epoch 123/300, Loss: 0.4076, Accuracy: 0.8176\n",
      "Epoch 124/300, Loss: 0.4070, Accuracy: 0.8142\n",
      "Epoch 125/300, Loss: 0.4065, Accuracy: 0.8153\n",
      "Epoch 126/300, Loss: 0.4060, Accuracy: 0.8142\n",
      "Epoch 127/300, Loss: 0.4054, Accuracy: 0.8142\n",
      "Epoch 128/300, Loss: 0.4049, Accuracy: 0.8142\n",
      "Epoch 129/300, Loss: 0.4044, Accuracy: 0.8131\n",
      "Epoch 130/300, Loss: 0.4039, Accuracy: 0.8131\n",
      "Epoch 131/300, Loss: 0.4034, Accuracy: 0.8131\n",
      "Epoch 132/300, Loss: 0.4029, Accuracy: 0.8142\n",
      "Epoch 133/300, Loss: 0.4024, Accuracy: 0.8153\n",
      "Epoch 134/300, Loss: 0.4019, Accuracy: 0.8176\n",
      "Epoch 135/300, Loss: 0.4015, Accuracy: 0.8176\n",
      "Epoch 136/300, Loss: 0.4010, Accuracy: 0.8153\n",
      "Epoch 137/300, Loss: 0.4005, Accuracy: 0.8119\n",
      "Epoch 138/300, Loss: 0.4001, Accuracy: 0.8131\n",
      "Epoch 139/300, Loss: 0.3996, Accuracy: 0.8142\n",
      "Epoch 140/300, Loss: 0.3992, Accuracy: 0.8108\n",
      "Epoch 141/300, Loss: 0.3988, Accuracy: 0.8097\n",
      "Epoch 142/300, Loss: 0.3983, Accuracy: 0.8108\n",
      "Epoch 143/300, Loss: 0.3979, Accuracy: 0.8108\n",
      "Epoch 144/300, Loss: 0.3975, Accuracy: 0.8097\n",
      "Epoch 145/300, Loss: 0.3971, Accuracy: 0.8086\n",
      "Epoch 146/300, Loss: 0.3966, Accuracy: 0.8086\n",
      "Epoch 147/300, Loss: 0.3962, Accuracy: 0.8086\n",
      "Epoch 148/300, Loss: 0.3958, Accuracy: 0.8074\n",
      "Epoch 149/300, Loss: 0.3954, Accuracy: 0.8086\n",
      "Epoch 150/300, Loss: 0.3950, Accuracy: 0.8086\n",
      "Epoch 151/300, Loss: 0.3946, Accuracy: 0.8097\n",
      "Epoch 152/300, Loss: 0.3942, Accuracy: 0.8108\n",
      "Epoch 153/300, Loss: 0.3938, Accuracy: 0.8119\n",
      "Epoch 154/300, Loss: 0.3934, Accuracy: 0.8108\n",
      "Epoch 155/300, Loss: 0.3931, Accuracy: 0.8119\n",
      "Epoch 156/300, Loss: 0.3927, Accuracy: 0.8142\n",
      "Epoch 157/300, Loss: 0.3923, Accuracy: 0.8142\n",
      "Epoch 158/300, Loss: 0.3919, Accuracy: 0.8153\n",
      "Epoch 159/300, Loss: 0.3916, Accuracy: 0.8187\n",
      "Epoch 160/300, Loss: 0.3912, Accuracy: 0.8209\n",
      "Epoch 161/300, Loss: 0.3908, Accuracy: 0.8198\n",
      "Epoch 162/300, Loss: 0.3905, Accuracy: 0.8176\n",
      "Epoch 163/300, Loss: 0.3901, Accuracy: 0.8176\n",
      "Epoch 164/300, Loss: 0.3897, Accuracy: 0.8176\n",
      "Epoch 165/300, Loss: 0.3894, Accuracy: 0.8209\n",
      "Epoch 166/300, Loss: 0.3890, Accuracy: 0.8209\n",
      "Epoch 167/300, Loss: 0.3887, Accuracy: 0.8232\n",
      "Epoch 168/300, Loss: 0.3883, Accuracy: 0.8243\n",
      "Epoch 169/300, Loss: 0.3880, Accuracy: 0.8243\n",
      "Epoch 170/300, Loss: 0.3876, Accuracy: 0.8255\n",
      "Epoch 171/300, Loss: 0.3873, Accuracy: 0.8243\n",
      "Epoch 172/300, Loss: 0.3869, Accuracy: 0.8243\n",
      "Epoch 173/300, Loss: 0.3866, Accuracy: 0.8243\n",
      "Epoch 174/300, Loss: 0.3862, Accuracy: 0.8243\n",
      "Epoch 175/300, Loss: 0.3859, Accuracy: 0.8243\n",
      "Epoch 176/300, Loss: 0.3855, Accuracy: 0.8255\n",
      "Epoch 177/300, Loss: 0.3851, Accuracy: 0.8255\n",
      "Epoch 178/300, Loss: 0.3848, Accuracy: 0.8266\n",
      "Epoch 179/300, Loss: 0.3844, Accuracy: 0.8266\n",
      "Epoch 180/300, Loss: 0.3841, Accuracy: 0.8266\n",
      "Epoch 181/300, Loss: 0.3837, Accuracy: 0.8266\n",
      "Epoch 182/300, Loss: 0.3834, Accuracy: 0.8266\n",
      "Epoch 183/300, Loss: 0.3830, Accuracy: 0.8232\n",
      "Epoch 184/300, Loss: 0.3827, Accuracy: 0.8232\n",
      "Epoch 185/300, Loss: 0.3823, Accuracy: 0.8232\n",
      "Epoch 186/300, Loss: 0.3820, Accuracy: 0.8266\n",
      "Epoch 187/300, Loss: 0.3816, Accuracy: 0.8266\n",
      "Epoch 188/300, Loss: 0.3813, Accuracy: 0.8266\n",
      "Epoch 189/300, Loss: 0.3810, Accuracy: 0.8266\n",
      "Epoch 190/300, Loss: 0.3806, Accuracy: 0.8266\n",
      "Epoch 191/300, Loss: 0.3803, Accuracy: 0.8266\n",
      "Epoch 192/300, Loss: 0.3799, Accuracy: 0.8266\n",
      "Epoch 193/300, Loss: 0.3796, Accuracy: 0.8277\n",
      "Epoch 194/300, Loss: 0.3793, Accuracy: 0.8277\n",
      "Epoch 195/300, Loss: 0.3790, Accuracy: 0.8266\n",
      "Epoch 196/300, Loss: 0.3786, Accuracy: 0.8255\n",
      "Epoch 197/300, Loss: 0.3783, Accuracy: 0.8255\n",
      "Epoch 198/300, Loss: 0.3780, Accuracy: 0.8255\n",
      "Epoch 199/300, Loss: 0.3776, Accuracy: 0.8255\n",
      "Epoch 200/300, Loss: 0.3773, Accuracy: 0.8255\n",
      "Epoch 201/300, Loss: 0.3770, Accuracy: 0.8288\n",
      "Epoch 202/300, Loss: 0.3766, Accuracy: 0.8288\n",
      "Epoch 203/300, Loss: 0.3763, Accuracy: 0.8300\n",
      "Epoch 204/300, Loss: 0.3760, Accuracy: 0.8288\n",
      "Epoch 205/300, Loss: 0.3756, Accuracy: 0.8288\n",
      "Epoch 206/300, Loss: 0.3753, Accuracy: 0.8288\n",
      "Epoch 207/300, Loss: 0.3750, Accuracy: 0.8288\n",
      "Epoch 208/300, Loss: 0.3747, Accuracy: 0.8300\n",
      "Epoch 209/300, Loss: 0.3743, Accuracy: 0.8288\n",
      "Epoch 210/300, Loss: 0.3740, Accuracy: 0.8300\n",
      "Epoch 211/300, Loss: 0.3737, Accuracy: 0.8300\n",
      "Epoch 212/300, Loss: 0.3733, Accuracy: 0.8288\n",
      "Epoch 213/300, Loss: 0.3730, Accuracy: 0.8288\n",
      "Epoch 214/300, Loss: 0.3727, Accuracy: 0.8288\n",
      "Epoch 215/300, Loss: 0.3723, Accuracy: 0.8266\n",
      "Epoch 216/300, Loss: 0.3720, Accuracy: 0.8255\n",
      "Epoch 217/300, Loss: 0.3717, Accuracy: 0.8288\n",
      "Epoch 218/300, Loss: 0.3713, Accuracy: 0.8288\n",
      "Epoch 219/300, Loss: 0.3710, Accuracy: 0.8277\n",
      "Epoch 220/300, Loss: 0.3706, Accuracy: 0.8277\n",
      "Epoch 221/300, Loss: 0.3703, Accuracy: 0.8277\n",
      "Epoch 222/300, Loss: 0.3699, Accuracy: 0.8277\n",
      "Epoch 223/300, Loss: 0.3696, Accuracy: 0.8277\n",
      "Epoch 224/300, Loss: 0.3692, Accuracy: 0.8277\n",
      "Epoch 225/300, Loss: 0.3689, Accuracy: 0.8277\n",
      "Epoch 226/300, Loss: 0.3685, Accuracy: 0.8288\n",
      "Epoch 227/300, Loss: 0.3682, Accuracy: 0.8288\n",
      "Epoch 228/300, Loss: 0.3678, Accuracy: 0.8288\n",
      "Epoch 229/300, Loss: 0.3675, Accuracy: 0.8277\n",
      "Epoch 230/300, Loss: 0.3671, Accuracy: 0.8288\n",
      "Epoch 231/300, Loss: 0.3668, Accuracy: 0.8300\n",
      "Epoch 232/300, Loss: 0.3664, Accuracy: 0.8311\n",
      "Epoch 233/300, Loss: 0.3660, Accuracy: 0.8300\n",
      "Epoch 234/300, Loss: 0.3657, Accuracy: 0.8311\n",
      "Epoch 235/300, Loss: 0.3654, Accuracy: 0.8311\n",
      "Epoch 236/300, Loss: 0.3650, Accuracy: 0.8311\n",
      "Epoch 237/300, Loss: 0.3647, Accuracy: 0.8311\n",
      "Epoch 238/300, Loss: 0.3643, Accuracy: 0.8288\n",
      "Epoch 239/300, Loss: 0.3640, Accuracy: 0.8300\n",
      "Epoch 240/300, Loss: 0.3637, Accuracy: 0.8300\n",
      "Epoch 241/300, Loss: 0.3633, Accuracy: 0.8300\n",
      "Epoch 242/300, Loss: 0.3630, Accuracy: 0.8300\n",
      "Epoch 243/300, Loss: 0.3626, Accuracy: 0.8311\n",
      "Epoch 244/300, Loss: 0.3623, Accuracy: 0.8300\n",
      "Epoch 245/300, Loss: 0.3619, Accuracy: 0.8300\n",
      "Epoch 246/300, Loss: 0.3616, Accuracy: 0.8311\n",
      "Epoch 247/300, Loss: 0.3613, Accuracy: 0.8311\n",
      "Epoch 248/300, Loss: 0.3609, Accuracy: 0.8311\n",
      "Epoch 249/300, Loss: 0.3606, Accuracy: 0.8333\n",
      "Epoch 250/300, Loss: 0.3602, Accuracy: 0.8333\n",
      "Epoch 251/300, Loss: 0.3599, Accuracy: 0.8333\n",
      "Epoch 252/300, Loss: 0.3595, Accuracy: 0.8300\n",
      "Epoch 253/300, Loss: 0.3592, Accuracy: 0.8322\n",
      "Epoch 254/300, Loss: 0.3588, Accuracy: 0.8333\n",
      "Epoch 255/300, Loss: 0.3585, Accuracy: 0.8333\n",
      "Epoch 256/300, Loss: 0.3581, Accuracy: 0.8322\n",
      "Epoch 257/300, Loss: 0.3578, Accuracy: 0.8300\n",
      "Epoch 258/300, Loss: 0.3574, Accuracy: 0.8322\n",
      "Epoch 259/300, Loss: 0.3571, Accuracy: 0.8322\n",
      "Epoch 260/300, Loss: 0.3567, Accuracy: 0.8322\n",
      "Epoch 261/300, Loss: 0.3564, Accuracy: 0.8322\n",
      "Epoch 262/300, Loss: 0.3560, Accuracy: 0.8322\n",
      "Epoch 263/300, Loss: 0.3557, Accuracy: 0.8322\n",
      "Epoch 264/300, Loss: 0.3553, Accuracy: 0.8333\n",
      "Epoch 265/300, Loss: 0.3550, Accuracy: 0.8345\n",
      "Epoch 266/300, Loss: 0.3546, Accuracy: 0.8367\n",
      "Epoch 267/300, Loss: 0.3542, Accuracy: 0.8367\n",
      "Epoch 268/300, Loss: 0.3539, Accuracy: 0.8356\n",
      "Epoch 269/300, Loss: 0.3535, Accuracy: 0.8356\n",
      "Epoch 270/300, Loss: 0.3531, Accuracy: 0.8356\n",
      "Epoch 271/300, Loss: 0.3528, Accuracy: 0.8367\n",
      "Epoch 272/300, Loss: 0.3524, Accuracy: 0.8378\n",
      "Epoch 273/300, Loss: 0.3520, Accuracy: 0.8356\n",
      "Epoch 274/300, Loss: 0.3516, Accuracy: 0.8367\n",
      "Epoch 275/300, Loss: 0.3513, Accuracy: 0.8378\n",
      "Epoch 276/300, Loss: 0.3509, Accuracy: 0.8378\n",
      "Epoch 277/300, Loss: 0.3505, Accuracy: 0.8401\n",
      "Epoch 278/300, Loss: 0.3501, Accuracy: 0.8390\n",
      "Epoch 279/300, Loss: 0.3498, Accuracy: 0.8378\n",
      "Epoch 280/300, Loss: 0.3494, Accuracy: 0.8390\n",
      "Epoch 281/300, Loss: 0.3490, Accuracy: 0.8390\n",
      "Epoch 282/300, Loss: 0.3487, Accuracy: 0.8390\n",
      "Epoch 283/300, Loss: 0.3483, Accuracy: 0.8390\n",
      "Epoch 284/300, Loss: 0.3479, Accuracy: 0.8390\n",
      "Epoch 285/300, Loss: 0.3476, Accuracy: 0.8390\n",
      "Epoch 286/300, Loss: 0.3472, Accuracy: 0.8390\n",
      "Epoch 287/300, Loss: 0.3468, Accuracy: 0.8390\n",
      "Epoch 288/300, Loss: 0.3465, Accuracy: 0.8390\n",
      "Epoch 289/300, Loss: 0.3461, Accuracy: 0.8390\n",
      "Epoch 290/300, Loss: 0.3457, Accuracy: 0.8390\n",
      "Epoch 291/300, Loss: 0.3453, Accuracy: 0.8390\n",
      "Epoch 292/300, Loss: 0.3450, Accuracy: 0.8390\n",
      "Epoch 293/300, Loss: 0.3446, Accuracy: 0.8390\n",
      "Epoch 294/300, Loss: 0.3442, Accuracy: 0.8401\n",
      "Epoch 295/300, Loss: 0.3438, Accuracy: 0.8401\n",
      "Epoch 296/300, Loss: 0.3434, Accuracy: 0.8390\n",
      "Epoch 297/300, Loss: 0.3431, Accuracy: 0.8401\n",
      "Epoch 298/300, Loss: 0.3427, Accuracy: 0.8401\n",
      "Epoch 299/300, Loss: 0.3423, Accuracy: 0.8401\n",
      "Epoch 300/300, Loss: 0.3419, Accuracy: 0.8468\n"
     ]
    }
   ],
   "source": [
    "epochs = 300\n",
    "for epoch in range(epochs):\n",
    "    model.train()\n",
    "    optimizer.zero_grad()\n",
    "\n",
    "    # Forward pass\n",
    "    output = model(x_train_tensor)\n",
    "    loss = loss_fn(output, y_train_tensor)\n",
    "\n",
    "    loss.backward()\n",
    "    optimizer.step()\n",
    "\n",
    "    predicted = (output > 0.5).float()\n",
    "    correct = (predicted == y_train_tensor).float().sum()\n",
    "    acc = correct / y_train_tensor.shape[0]\n",
    "\n",
    "    print(f\"Epoch {epoch + 1}/{epochs}, Loss: {loss.item():.4f}, Accuracy: {acc.item():.4f}\")"
   ]
  },
  {
   "cell_type": "code",
   "execution_count": 43,
   "metadata": {},
   "outputs": [],
   "source": [
    "torch.save(model.state_dict(), 'models/Survival_NN.pth')"
   ]
  },
  {
   "cell_type": "code",
   "execution_count": 44,
   "metadata": {},
   "outputs": [
    {
     "name": "stdout",
     "output_type": "stream",
     "text": [
      "Test Accuracy: 0.8156\n"
     ]
    }
   ],
   "source": [
    "model.eval()\n",
    "with torch.no_grad():\n",
    "    test_output = model(x_test_tensor)\n",
    "    test_predicted = (test_output > 0.5).float()\n",
    "    test_correct = (test_predicted == y_test_tensor).float().sum()\n",
    "    test_acc = test_correct / y_test_tensor.shape[0]\n",
    "\n",
    "print(f\"Test Accuracy: {test_acc.item():.4f}\")"
   ]
  },
  {
   "cell_type": "code",
   "execution_count": 46,
   "metadata": {},
   "outputs": [],
   "source": [
    "import torch.onnx\n",
    "\n",
    "dummy_input = torch.randn(1, input_dim)\n",
    "\n",
    "# export the model\n",
    "\n",
    "torch.onnx.export(model,\n",
    "                 dummy_input,\n",
    "                'models/Survival_NN.onnx',\n",
    "                export_params=True,\n",
    "                opset_version=11,\n",
    "                do_constant_folding=True,\n",
    "                input_names=['input'],\n",
    "                output_names=['output'],\n",
    "                dynamic_axes={'input': {0: 'batch_size'},\n",
    "                'output': {0: 'batch_size'}})"
   ]
  },
  {
   "cell_type": "code",
   "execution_count": null,
   "metadata": {},
   "outputs": [],
   "source": []
  }
 ],
 "metadata": {
  "kernelspec": {
   "display_name": "env",
   "language": "python",
   "name": "python3"
  },
  "language_info": {
   "codemirror_mode": {
    "name": "ipython",
    "version": 3
   },
   "file_extension": ".py",
   "mimetype": "text/x-python",
   "name": "python",
   "nbconvert_exporter": "python",
   "pygments_lexer": "ipython3",
   "version": "3.11.11"
  }
 },
 "nbformat": 4,
 "nbformat_minor": 2
}
